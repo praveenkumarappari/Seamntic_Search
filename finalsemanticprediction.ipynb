{
 "cells": [
  {
   "cell_type": "code",
   "execution_count": 2,
   "metadata": {},
   "outputs": [],
   "source": [
    "from tika import parser \n",
    "import os\n",
    "\n",
    "doc_dir ='./data/input/'\n",
    "def tika_parser(doc_dir):\n",
    "    # pdf file paths\n",
    "    pdf_files = [file for file in os.listdir(os.getcwd()) if file.endswith('.pdf')]\n",
    "\n",
    "    # parsing pdf file \n",
    "    for pdf in pdf_files:\n",
    "        parsed_pdf = parser.from_file(pdf)  \n",
    "        pdf_data = parsed_pdf['content'].strip()\n",
    "        with open(doc_dir+pdf.split('.')[0]+'.txt', 'w') as out_file:\n",
    "            out_file.write(pdf_data)\n",
    "                           \n",
    "                           \n",
    "tika_parser(doc_dir)"
   ]
  },
  {
   "cell_type": "code",
   "execution_count": 3,
   "metadata": {
    "scrolled": true
   },
   "outputs": [
    {
     "name": "stderr",
     "output_type": "stream",
     "text": [
      "02/26/2021 13:22:30 - INFO - elasticsearch -   PUT http://localhost:9200/document [status:200 request:0.315s]\n",
      "02/26/2021 13:22:30 - INFO - elasticsearch -   PUT http://localhost:9200/label [status:200 request:0.180s]\n",
      "02/26/2021 13:22:30 - INFO - haystack.preprocessor.utils -   Converting data\\input\\APPARI_PRAVEEN KUMAR.txt\n",
      "02/26/2021 13:22:30 - INFO - haystack.preprocessor.utils -   Converting data\\input\\Praveen_Kumar_Appari_cover_letter (1).txt\n",
      "02/26/2021 13:22:30 - INFO - haystack.preprocessor.utils -   Converting data\\input\\Surisetty Resume ALBIS Plastics GmbH.txt\n",
      "02/26/2021 13:22:30 - INFO - haystack.preprocessor.utils -   Converting data\\input\\VamsiKrishnaAppari_Resume (1).txt\n",
      "02/26/2021 13:22:31 - INFO - elasticsearch -   POST http://localhost:9200/_bulk?refresh=wait_for [status:200 request:0.656s]\n",
      "02/26/2021 13:22:31 - INFO - farm.utils -   Using device: CPU \n",
      "02/26/2021 13:22:31 - INFO - farm.utils -   Number of GPUs: 0\n",
      "02/26/2021 13:22:31 - INFO - farm.utils -   Distributed Training: False\n",
      "02/26/2021 13:22:31 - INFO - farm.utils -   Automatic Mixed Precision: None\n",
      "Some weights of RobertaModel were not initialized from the model checkpoint at deepset/roberta-base-squad2 and are newly initialized: ['roberta.pooler.dense.weight', 'roberta.pooler.dense.bias']\n",
      "You should probably TRAIN this model on a down-stream task to be able to use it for predictions and inference.\n",
      "2021/02/26 13:22:45 WARNING mlflow.tracking.context.git_context: Failed to import Git (the Git executable is probably not on your PATH), so Git SHA is not available. Error: Failed to initialize: Bad git executable.\n",
      "The git executable must be specified in one of the following ways:\n",
      "    - be included in your $PATH\n",
      "    - be set via $GIT_PYTHON_GIT_EXECUTABLE\n",
      "    - explicitly set via git.refresh()\n",
      "\n",
      "All git commands will error until this is rectified.\n",
      "\n",
      "This initial warning can be silenced or aggravated in the future by setting the\n",
      "$GIT_PYTHON_REFRESH environment variable. Use one of the following values:\n",
      "    - quiet|q|silence|s|none|n|0: for no warning or exception\n",
      "    - warn|w|warning|1: for a printed warning\n",
      "    - error|e|raise|r|2: for a raised exception\n",
      "\n",
      "Example:\n",
      "    export GIT_PYTHON_REFRESH=quiet\n",
      "\n",
      "02/26/2021 13:22:49 - WARNING - farm.utils -   ML Logging is turned off. No parameters, metrics or artifacts will be logged to MLFlow.\n",
      "02/26/2021 13:22:49 - INFO - farm.utils -   Using device: CPU \n",
      "02/26/2021 13:22:49 - INFO - farm.utils -   Number of GPUs: 0\n",
      "02/26/2021 13:22:49 - INFO - farm.utils -   Distributed Training: False\n",
      "02/26/2021 13:22:49 - INFO - farm.utils -   Automatic Mixed Precision: None\n",
      "02/26/2021 13:22:49 - INFO - farm.infer -   Got ya 7 parallel workers to do inference ...\n",
      "02/26/2021 13:22:49 - INFO - farm.infer -    0    0    0    0    0    0    0 \n",
      "02/26/2021 13:22:49 - INFO - farm.infer -   /w\\  /w\\  /w\\  /w\\  /w\\  /w\\  /w\\\n",
      "02/26/2021 13:22:49 - INFO - farm.infer -   /'\\  / \\  /'\\  /'\\  / \\  / \\  /'\\\n",
      "02/26/2021 13:22:49 - INFO - farm.infer -               \n"
     ]
    }
   ],
   "source": [
    "from haystack.preprocessor.cleaning import clean_wiki_text\n",
    "from haystack.document_store.elasticsearch import ElasticsearchDocumentStore\n",
    "from haystack.retriever.sparse import ElasticsearchRetriever\n",
    "from haystack.preprocessor.utils import convert_files_to_dicts, fetch_archive_from_http\n",
    "from haystack.reader.farm import FARMReader\n",
    "from haystack.reader.transformers import TransformersReader\n",
    "from haystack.utils import print_answers\n",
    "from haystack.pipeline import ExtractiveQAPipeline\n",
    "\n",
    "def get_pipe():\n",
    "\n",
    "    document_store = ElasticsearchDocumentStore(host=\"localhost\", username=\"\", password=\"\", index=\"document\")\n",
    "    dicts = convert_files_to_dicts(dir_path=doc_dir, clean_func=clean_wiki_text, split_paragraphs=True)\n",
    "    document_store.write_documents(dicts)\n",
    "\n",
    "\n",
    "    retriever = ElasticsearchRetriever(document_store=document_store)\n",
    "    reader = FARMReader(model_name_or_path=\"deepset/roberta-base-squad2\", use_gpu=True)\n",
    "    \n",
    "    #reader = TransformersReader(model_name_or_path=\"distilbert-base-uncased-distilled-squad\", tokenizer=\"distilbert-base-uncased\", use_gpu=-1)\n",
    "\n",
    "\n",
    "    pipe = ExtractiveQAPipeline(reader, retriever)\n",
    "    return pipe\n",
    "\n",
    "pipe = get_pipe()"
   ]
  },
  {
   "cell_type": "code",
   "execution_count": 4,
   "metadata": {},
   "outputs": [
    {
     "name": "stderr",
     "output_type": "stream",
     "text": [
      "02/26/2021 13:22:49 - INFO - elasticsearch -   POST http://localhost:9200/document/_search [status:200 request:0.232s]\n",
      "Inferencing Samples: 100%|█████████████████████████████████████████████████████████| 1/1 [00:01<00:00,  1.58s/ Batches]\n",
      "Inferencing Samples: 100%|█████████████████████████████████████████████████████████| 1/1 [00:02<00:00,  2.75s/ Batches]\n",
      "Inferencing Samples: 100%|█████████████████████████████████████████████████████████| 1/1 [00:04<00:00,  4.17s/ Batches]"
     ]
    },
    {
     "name": "stdout",
     "output_type": "stream",
     "text": [
      "[   {   'answer': 'praveen1812kumar',\n",
      "        'context': 'trasse 20, 1st Floor, Kirchheim, Heidelberg, 69142 \\n'\n",
      "                   'Germany Email: praveen1812kumar@gmail.com | Contact :+49 '\n",
      "                   '17685607848 \\n'\n",
      "                   'Job Position – Regular Fullt'},\n",
      "    {   'answer': 'praveen1812kumar',\n",
      "        'context': 'n and \\n'\n",
      "                   'MD70 documentation according to ERP business needs. \\n'\n",
      "                   'mailto:praveen1812kumar@gmail.com\\n'\n",
      "                   'https://github.com/praveenkumarappari\\n'\n",
      "                   '• Gathering the re'},\n",
      "    {   'answer': 'praveen1812kumar',\n",
      "        'context': 'no: 109, Neckarau West, 68199 Mannheim| \\n'\n",
      "                   '+4917685607848 | E-Mail : praveen1812kumar@gmail.com \\n'\n",
      "                   'Git-Link: https://github.com/praveenkumarappari  \\n'\n",
      "                   '  Sex'},\n",
      "    {   'answer': 'praveen1812kumar',\n",
      "        'context': 'u with all the details. I am available via phone and '\n",
      "                   'email. \\n'\n",
      "                   'Looking forward to hearing from you and work with SAP. \\n'\n",
      "                   'mailto:praveen1812kumar@gmail.com'},\n",
      "    {   'answer': 'vamsikrishna',\n",
      "        'context': ' 530009. \\n'\n",
      "                   'Sex: Male | Date of birth:18/01/1998 | Nationality: '\n",
      "                   'Indian \\n'\n",
      "                   'vamsikrishna1998118@gmail.com | Mobile: +918886370522 \\n'\n",
      "                   'Aiming to associate with '}]\n"
     ]
    },
    {
     "name": "stderr",
     "output_type": "stream",
     "text": [
      "\n"
     ]
    }
   ],
   "source": [
    "def predict_answers(query):\n",
    "    prediction = pipe.run(query= query, top_k_retriever=10, top_k_reader=5)\n",
    "\n",
    "    print_answers(prediction, details=\"minimal\")\n",
    "    \n",
    "predict_answers('who is from mannhein')"
   ]
  },
  {
   "cell_type": "code",
   "execution_count": null,
   "metadata": {},
   "outputs": [],
   "source": []
  }
 ],
 "metadata": {
  "kernelspec": {
   "display_name": "Python 3",
   "language": "python",
   "name": "python3"
  },
  "language_info": {
   "codemirror_mode": {
    "name": "ipython",
    "version": 3
   },
   "file_extension": ".py",
   "mimetype": "text/x-python",
   "name": "python",
   "nbconvert_exporter": "python",
   "pygments_lexer": "ipython3",
   "version": "3.7.6"
  }
 },
 "nbformat": 4,
 "nbformat_minor": 4
}
